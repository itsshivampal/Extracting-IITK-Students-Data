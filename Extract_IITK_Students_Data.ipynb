{
 "cells": [
  {
   "cell_type": "markdown",
   "metadata": {},
   "source": [
    "# Introduction\n",
    "\n",
    "- Following code is for retrieving data of iitk students from the iitk server using their roll number. <br>\n",
    "- In roll_no_list, append all the roll numbers whose name and email you want to retrieve from the server. <br>\n",
    "- If you are outside from IIT Kanpur, then don't forget to use ssl-vpn proxy.\n",
    "<br><br>\n",
    "Change Gmail settings for sending bulk mails- https://myaccount.google.com/lesssecureapps"
   ]
  },
  {
   "cell_type": "markdown",
   "metadata": {},
   "source": [
    "## Import Libraries"
   ]
  },
  {
   "cell_type": "code",
   "execution_count": 4,
   "metadata": {},
   "outputs": [],
   "source": [
    "from bs4 import BeautifulSoup\n",
    "import urllib.request as urllib2\n",
    "import requests\n",
    "import re\n",
    "import pandas as pd\n",
    "\n",
    "import email\n",
    "import smtplib\n",
    "import ssl\n",
    "\n",
    "from email.mime.multipart import MIMEMultipart\n",
    "from email.mime.text import MIMEText"
   ]
  },
  {
   "cell_type": "markdown",
   "metadata": {},
   "source": [
    "## Extracting Data from IITK Server"
   ]
  },
  {
   "cell_type": "code",
   "execution_count": 3,
   "metadata": {},
   "outputs": [],
   "source": [
    "s = requests.Session()\n",
    "s.get(\"https://oa.cc.iitk.ac.in/Oa/Jsp/Main_Frameset.jsp\")\n",
    "s.get(\"https://oa.cc.iitk.ac.in/Oa/Jsp/Main_Intro.jsp?frm='SRCH'\")\n",
    "s.get(\"https://oa.cc.iitk.ac.in/Oa/Jsp/OAServices/IITK_Srch.jsp?typ=stud\")\n",
    "\n",
    "\n",
    "headers1 = {\n",
    "    \"Referer\": \"https://oa.cc.iitk.ac.in/Oa/Jsp/OAServices/IITk_SrchStudRoll_new.jsp\"\n",
    "}\n",
    "\n",
    "payload1 = {\n",
    "    'typ': ['stud'] * 12,\n",
    "    'numtxt': '',\n",
    "    'sbm': ['Y'] * 12\n",
    "}\n",
    "\n",
    "# filename should be in format: 'xyz.csv'\n",
    "# roll_no_list: should be an array of roll nos\n",
    "\n",
    "def getRecordsByRollNoList (filename, roll_no_list):\n",
    "    record = []\n",
    "    for roll in roll_no_list:\n",
    "        payload1['numtxt'] = roll\n",
    "        r1 = s.post(\"https://oa.cc.iitk.ac.in/Oa/Jsp/OAServices/IITk_SrchRes_new.jsp\", headers=headers1, data=payload1)\n",
    "        soup1 = BeautifulSoup(r1.text, 'html.parser')\n",
    "\n",
    "        name = ''\n",
    "        email = ''\n",
    "        department = ''\n",
    "        gender = ''\n",
    "\n",
    "        for para in soup1.select('.TableContent p'):\n",
    "            body = para.get_text().strip()\n",
    "            field = body.split(':')\n",
    "            key = field[0].strip()\n",
    "            value = field[1].strip()\n",
    "            if key == 'Name':\n",
    "                name = value.lower().title()\n",
    "            elif key == 'E-Mail':\n",
    "                email = value\n",
    "            elif key == 'Department':\n",
    "                department = value\n",
    "            elif key == 'Gender':\n",
    "                gender = value[0]\n",
    "\n",
    "        if name != \"\" and email != \"\" and email != \"Not Available\":\n",
    "            data = [name, email, department, gender, roll]\n",
    "            record.append(data)\n",
    "            user_name = name.split(\" \")[0]\n",
    "            print (name, email, department, gender, roll)\n",
    "\n",
    "    df = pd.DataFrame(record, columns = ['Name', 'Email', 'Department', 'Gender', 'Roll No']) \n",
    "    df.to_csv(filename, encoding='utf-8', index=False)\n",
    "    return true\n"
   ]
  },
  {
   "cell_type": "markdown",
   "metadata": {},
   "source": [
    "## Save Required Roll No in array"
   ]
  },
  {
   "cell_type": "code",
   "execution_count": null,
   "metadata": {},
   "outputs": [],
   "source": [
    "# Save roll numbers in roll_no_list\n",
    "\n",
    "roll_no_list = []\n",
    "\n",
    "# for y19 MBA students\n",
    "for i in range(52):\n",
    "    roll = 19125001 + i\n",
    "    roll_no_list.append(roll)\n",
    "\n",
    "roll_no_list.append(15807678)"
   ]
  },
  {
   "cell_type": "markdown",
   "metadata": {},
   "source": [
    "## Execute final function"
   ]
  },
  {
   "cell_type": "code",
   "execution_count": 6,
   "metadata": {},
   "outputs": [],
   "source": [
    "filename = 'student_list.csv'\n",
    "\n",
    "getRecordsByRollNoList(filename, roll_no_list)"
   ]
  },
  {
   "cell_type": "code",
   "execution_count": null,
   "metadata": {},
   "outputs": [],
   "source": []
  }
 ],
 "metadata": {
  "kernelspec": {
   "display_name": "Python 3",
   "language": "python",
   "name": "python3"
  },
  "language_info": {
   "codemirror_mode": {
    "name": "ipython",
    "version": 3
   },
   "file_extension": ".py",
   "mimetype": "text/x-python",
   "name": "python",
   "nbconvert_exporter": "python",
   "pygments_lexer": "ipython3",
   "version": "3.8.5"
  }
 },
 "nbformat": 4,
 "nbformat_minor": 2
}
